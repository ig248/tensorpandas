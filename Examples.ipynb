{
 "cells": [
  {
   "cell_type": "code",
   "execution_count": 5,
   "metadata": {},
   "outputs": [
    {
     "data": {
      "text/plain": [
       "('1.19.2', '1.0.5', '0.23.2')"
      ]
     },
     "execution_count": 5,
     "metadata": {},
     "output_type": "execute_result"
    }
   ],
   "source": [
    "import numpy as np\n",
    "import pandas as pd\n",
    "import sklearn\n",
    "from sklearn.datasets import fetch_olivetti_faces\n",
    "from tensorpandas import TensorArray, TensorDtype\n",
    "\n",
    "np.__version__, pd.__version__, sklearn.__version__"
   ]
  },
  {
   "cell_type": "markdown",
   "metadata": {},
   "source": [
    "# Tensorpandas\n",
    "Tensorpandas allows efficiently storing n-dimensional data in a Pandas DataFrame.\n",
    "In this example, we store images with some associated metadata."
   ]
  },
  {
   "cell_type": "code",
   "execution_count": 28,
   "metadata": {},
   "outputs": [
    {
     "name": "stdout",
     "output_type": "stream",
     "text": [
      "CPU times: user 21.1 ms, sys: 5.25 ms, total: 26.3 ms\n",
      "Wall time: 25.5 ms\n"
     ]
    }
   ],
   "source": [
    "%%time\n",
    "data = fetch_olivetti_faces()"
   ]
  },
  {
   "cell_type": "code",
   "execution_count": 29,
   "metadata": {},
   "outputs": [
    {
     "data": {
      "text/plain": [
       "((400, 64, 64), (400,))"
      ]
     },
     "execution_count": 29,
     "metadata": {},
     "output_type": "execute_result"
    }
   ],
   "source": [
    "data.images.shape, data.target.shape"
   ]
  },
  {
   "cell_type": "code",
   "execution_count": 30,
   "metadata": {},
   "outputs": [
    {
     "data": {
      "text/html": [
       "<div>\n",
       "<style scoped>\n",
       "    .dataframe tbody tr th:only-of-type {\n",
       "        vertical-align: middle;\n",
       "    }\n",
       "\n",
       "    .dataframe tbody tr th {\n",
       "        vertical-align: top;\n",
       "    }\n",
       "\n",
       "    .dataframe thead th {\n",
       "        text-align: right;\n",
       "    }\n",
       "</style>\n",
       "<table border=\"1\" class=\"dataframe\">\n",
       "  <thead>\n",
       "    <tr style=\"text-align: right;\">\n",
       "      <th></th>\n",
       "      <th>image</th>\n",
       "      <th>target</th>\n",
       "    </tr>\n",
       "  </thead>\n",
       "  <tbody>\n",
       "    <tr>\n",
       "      <th>0</th>\n",
       "      <td>[[0.30991736 0.3677686  0.41735536 ... 0.371900...</td>\n",
       "      <td>0</td>\n",
       "    </tr>\n",
       "    <tr>\n",
       "      <th>1</th>\n",
       "      <td>[[0.45454547 0.47107437 0.5123967  ... 0.190082...</td>\n",
       "      <td>0</td>\n",
       "    </tr>\n",
       "    <tr>\n",
       "      <th>2</th>\n",
       "      <td>[[0.3181818  0.40082645 0.49173555 ... 0.400826...</td>\n",
       "      <td>0</td>\n",
       "    </tr>\n",
       "    <tr>\n",
       "      <th>3</th>\n",
       "      <td>[[0.1983471  0.19421488 0.19421488 ... 0.582644...</td>\n",
       "      <td>0</td>\n",
       "    </tr>\n",
       "    <tr>\n",
       "      <th>4</th>\n",
       "      <td>[[0.5        0.54545456 0.58264464 ... 0.223140...</td>\n",
       "      <td>0</td>\n",
       "    </tr>\n",
       "  </tbody>\n",
       "</table>\n",
       "</div>"
      ],
      "text/plain": [
       "                                               image  target\n",
       "0 [[0.30991736 0.3677686  0.41735536 ... 0.371900...       0\n",
       "1 [[0.45454547 0.47107437 0.5123967  ... 0.190082...       0\n",
       "2 [[0.3181818  0.40082645 0.49173555 ... 0.400826...       0\n",
       "3 [[0.1983471  0.19421488 0.19421488 ... 0.582644...       0\n",
       "4 [[0.5        0.54545456 0.58264464 ... 0.223140...       0"
      ]
     },
     "execution_count": 30,
     "metadata": {},
     "output_type": "execute_result"
    }
   ],
   "source": [
    "df = pd.DataFrame({\n",
    "    \"image\": TensorArray(data.images),\n",
    "    \"target\": data.target\n",
    "})\n",
    "df.head()"
   ]
  },
  {
   "cell_type": "markdown",
   "metadata": {},
   "source": [
    "## TensorDtype\n",
    "The corresponding scalar type is itself an ndarray - in this case a 64x64 image"
   ]
  },
  {
   "cell_type": "code",
   "execution_count": 34,
   "metadata": {},
   "outputs": [
    {
     "data": {
      "text/plain": [
       "image     Tensor[(64, 64)]\n",
       "target               int64\n",
       "dtype: object"
      ]
     },
     "execution_count": 34,
     "metadata": {},
     "output_type": "execute_result"
    }
   ],
   "source": [
    "df.dtypes"
   ]
  },
  {
   "cell_type": "code",
   "execution_count": 35,
   "metadata": {},
   "outputs": [
    {
     "data": {
      "text/plain": [
       "Index         128\n",
       "image     6553600\n",
       "target       3200\n",
       "dtype: int64"
      ]
     },
     "execution_count": 35,
     "metadata": {},
     "output_type": "execute_result"
    }
   ],
   "source": [
    "df.memory_usage()"
   ]
  },
  {
   "cell_type": "markdown",
   "metadata": {},
   "source": [
    "## Access underlying data"
   ]
  },
  {
   "cell_type": "code",
   "execution_count": 48,
   "metadata": {},
   "outputs": [
    {
     "data": {
      "text/html": [
       "<div>\n",
       "<style scoped>\n",
       "    .dataframe tbody tr th:only-of-type {\n",
       "        vertical-align: middle;\n",
       "    }\n",
       "\n",
       "    .dataframe tbody tr th {\n",
       "        vertical-align: top;\n",
       "    }\n",
       "\n",
       "    .dataframe thead th {\n",
       "        text-align: right;\n",
       "    }\n",
       "</style>\n",
       "<table border=\"1\" class=\"dataframe\">\n",
       "  <thead>\n",
       "    <tr style=\"text-align: right;\">\n",
       "      <th></th>\n",
       "      <th>image</th>\n",
       "      <th>target</th>\n",
       "      <th>mean</th>\n",
       "    </tr>\n",
       "  </thead>\n",
       "  <tbody>\n",
       "    <tr>\n",
       "      <th>0</th>\n",
       "      <td>[[0.30991736 0.3677686  0.41735536 ... 0.371900...</td>\n",
       "      <td>0</td>\n",
       "      <td>0.636847</td>\n",
       "    </tr>\n",
       "    <tr>\n",
       "      <th>1</th>\n",
       "      <td>[[0.45454547 0.47107437 0.5123967  ... 0.190082...</td>\n",
       "      <td>0</td>\n",
       "      <td>0.589404</td>\n",
       "    </tr>\n",
       "    <tr>\n",
       "      <th>2</th>\n",
       "      <td>[[0.3181818  0.40082645 0.49173555 ... 0.400826...</td>\n",
       "      <td>0</td>\n",
       "      <td>0.622834</td>\n",
       "    </tr>\n",
       "    <tr>\n",
       "      <th>3</th>\n",
       "      <td>[[0.1983471  0.19421488 0.19421488 ... 0.582644...</td>\n",
       "      <td>0</td>\n",
       "      <td>0.580938</td>\n",
       "    </tr>\n",
       "    <tr>\n",
       "      <th>4</th>\n",
       "      <td>[[0.5        0.54545456 0.58264464 ... 0.223140...</td>\n",
       "      <td>0</td>\n",
       "      <td>0.609376</td>\n",
       "    </tr>\n",
       "    <tr>\n",
       "      <th>...</th>\n",
       "      <td>...</td>\n",
       "      <td>...</td>\n",
       "      <td>...</td>\n",
       "    </tr>\n",
       "    <tr>\n",
       "      <th>395</th>\n",
       "      <td>[[0.40082645 0.49586776 0.57024795 ... 0.347107...</td>\n",
       "      <td>39</td>\n",
       "      <td>0.526275</td>\n",
       "    </tr>\n",
       "    <tr>\n",
       "      <th>396</th>\n",
       "      <td>[[0.3677686  0.3677686  0.35123968 ... 0.694214...</td>\n",
       "      <td>39</td>\n",
       "      <td>0.606065</td>\n",
       "    </tr>\n",
       "    <tr>\n",
       "      <th>397</th>\n",
       "      <td>[[0.5        0.53305787 0.607438   ... 0.285123...</td>\n",
       "      <td>39</td>\n",
       "      <td>0.516712</td>\n",
       "    </tr>\n",
       "    <tr>\n",
       "      <th>398</th>\n",
       "      <td>[[0.21487603 0.21900827 0.21900827 ... 0.714876...</td>\n",
       "      <td>39</td>\n",
       "      <td>0.600571</td>\n",
       "    </tr>\n",
       "    <tr>\n",
       "      <th>399</th>\n",
       "      <td>[[0.5165289  0.46280992 0.28099173 ... 0.578512...</td>\n",
       "      <td>39</td>\n",
       "      <td>0.557479</td>\n",
       "    </tr>\n",
       "  </tbody>\n",
       "</table>\n",
       "<p>400 rows × 3 columns</p>\n",
       "</div>"
      ],
      "text/plain": [
       "                                                 image  target      mean\n",
       "0   [[0.30991736 0.3677686  0.41735536 ... 0.371900...       0  0.636847\n",
       "1   [[0.45454547 0.47107437 0.5123967  ... 0.190082...       0  0.589404\n",
       "2   [[0.3181818  0.40082645 0.49173555 ... 0.400826...       0  0.622834\n",
       "3   [[0.1983471  0.19421488 0.19421488 ... 0.582644...       0  0.580938\n",
       "4   [[0.5        0.54545456 0.58264464 ... 0.223140...       0  0.609376\n",
       "..                                                 ...     ...       ...\n",
       "395 [[0.40082645 0.49586776 0.57024795 ... 0.347107...      39  0.526275\n",
       "396 [[0.3677686  0.3677686  0.35123968 ... 0.694214...      39  0.606065\n",
       "397 [[0.5        0.53305787 0.607438   ... 0.285123...      39  0.516712\n",
       "398 [[0.21487603 0.21900827 0.21900827 ... 0.714876...      39  0.600571\n",
       "399 [[0.5165289  0.46280992 0.28099173 ... 0.578512...      39  0.557479\n",
       "\n",
       "[400 rows x 3 columns]"
      ]
     },
     "execution_count": 48,
     "metadata": {},
     "output_type": "execute_result"
    }
   ],
   "source": [
    "df[\"mean\"] = df.image.tensor.values.mean(axis=-1).mean(axis=-1)\n",
    "df"
   ]
  },
  {
   "cell_type": "markdown",
   "metadata": {},
   "source": [
    "## Perform indexing/reshaping operations"
   ]
  },
  {
   "cell_type": "code",
   "execution_count": 55,
   "metadata": {},
   "outputs": [
    {
     "data": {
      "text/html": [
       "<div>\n",
       "<style scoped>\n",
       "    .dataframe tbody tr th:only-of-type {\n",
       "        vertical-align: middle;\n",
       "    }\n",
       "\n",
       "    .dataframe tbody tr th {\n",
       "        vertical-align: top;\n",
       "    }\n",
       "\n",
       "    .dataframe thead tr th {\n",
       "        text-align: left;\n",
       "    }\n",
       "\n",
       "    .dataframe thead tr:last-of-type th {\n",
       "        text-align: right;\n",
       "    }\n",
       "</style>\n",
       "<table border=\"1\" class=\"dataframe\">\n",
       "  <thead>\n",
       "    <tr>\n",
       "      <th></th>\n",
       "      <th colspan=\"2\" halign=\"left\">image</th>\n",
       "      <th colspan=\"2\" halign=\"left\">target</th>\n",
       "    </tr>\n",
       "    <tr>\n",
       "      <th>light</th>\n",
       "      <th>False</th>\n",
       "      <th>True</th>\n",
       "      <th>False</th>\n",
       "      <th>True</th>\n",
       "    </tr>\n",
       "    <tr>\n",
       "      <th>mean</th>\n",
       "      <th></th>\n",
       "      <th></th>\n",
       "      <th></th>\n",
       "      <th></th>\n",
       "    </tr>\n",
       "  </thead>\n",
       "  <tbody>\n",
       "    <tr>\n",
       "      <th>0.382309</th>\n",
       "      <td>[[0.20661157 0.20661157 0.20661157 ... 0.152892...</td>\n",
       "      <td>[[nan nan nan ... nan nan nan]\n",
       " [nan nan nan .....</td>\n",
       "      <td>21.0</td>\n",
       "      <td>NaN</td>\n",
       "    </tr>\n",
       "    <tr>\n",
       "      <th>0.388200</th>\n",
       "      <td>[[0.46694216 0.47520661 0.45454547 ... 0.561983...</td>\n",
       "      <td>[[nan nan nan ... nan nan nan]\n",
       " [nan nan nan .....</td>\n",
       "      <td>33.0</td>\n",
       "      <td>NaN</td>\n",
       "    </tr>\n",
       "    <tr>\n",
       "      <th>0.393329</th>\n",
       "      <td>[[0.13636364 0.14049587 0.18595041 ... 0.119834...</td>\n",
       "      <td>[[nan nan nan ... nan nan nan]\n",
       " [nan nan nan .....</td>\n",
       "      <td>21.0</td>\n",
       "      <td>NaN</td>\n",
       "    </tr>\n",
       "    <tr>\n",
       "      <th>0.394009</th>\n",
       "      <td>[[0.15289256 0.18181819 0.25206611 ... 0.123966...</td>\n",
       "      <td>[[nan nan nan ... nan nan nan]\n",
       " [nan nan nan .....</td>\n",
       "      <td>21.0</td>\n",
       "      <td>NaN</td>\n",
       "    </tr>\n",
       "    <tr>\n",
       "      <th>0.394940</th>\n",
       "      <td>[[0.14876033 0.1570248  0.19008264 ... 0.111570...</td>\n",
       "      <td>[[nan nan nan ... nan nan nan]\n",
       " [nan nan nan .....</td>\n",
       "      <td>38.0</td>\n",
       "      <td>NaN</td>\n",
       "    </tr>\n",
       "    <tr>\n",
       "      <th>...</th>\n",
       "      <td>...</td>\n",
       "      <td>...</td>\n",
       "      <td>...</td>\n",
       "      <td>...</td>\n",
       "    </tr>\n",
       "    <tr>\n",
       "      <th>0.705760</th>\n",
       "      <td>[[nan nan nan ... nan nan nan]\n",
       " [nan nan nan .....</td>\n",
       "      <td>[[0.33057851 0.40909091 0.54958677 ... 0.723140...</td>\n",
       "      <td>NaN</td>\n",
       "      <td>5.0</td>\n",
       "    </tr>\n",
       "    <tr>\n",
       "      <th>0.712098</th>\n",
       "      <td>[[nan nan nan ... nan nan nan]\n",
       " [nan nan nan .....</td>\n",
       "      <td>[[0.63636363 0.67768598 0.66942149 ... 0.698347...</td>\n",
       "      <td>NaN</td>\n",
       "      <td>5.0</td>\n",
       "    </tr>\n",
       "    <tr>\n",
       "      <th>0.713822</th>\n",
       "      <td>[[nan nan nan ... nan nan nan]\n",
       " [nan nan nan .....</td>\n",
       "      <td>[[0.55371898 0.60743803 0.63636363 ... 0.719008...</td>\n",
       "      <td>NaN</td>\n",
       "      <td>5.0</td>\n",
       "    </tr>\n",
       "    <tr>\n",
       "      <th>0.717360</th>\n",
       "      <td>[[nan nan nan ... nan nan nan]\n",
       " [nan nan nan .....</td>\n",
       "      <td>[[0.72314048 0.71074378 0.71487606 ... 0.636363...</td>\n",
       "      <td>NaN</td>\n",
       "      <td>5.0</td>\n",
       "    </tr>\n",
       "    <tr>\n",
       "      <th>0.724855</th>\n",
       "      <td>[[nan nan nan ... nan nan nan]\n",
       " [nan nan nan .....</td>\n",
       "      <td>[[0.6570248  0.64876032 0.65289259 ... 0.690082...</td>\n",
       "      <td>NaN</td>\n",
       "      <td>5.0</td>\n",
       "    </tr>\n",
       "  </tbody>\n",
       "</table>\n",
       "<p>400 rows × 4 columns</p>\n",
       "</div>"
      ],
      "text/plain": [
       "                                                      image  \\\n",
       "light                                                 False   \n",
       "mean                                                          \n",
       "0.382309 [[0.20661157 0.20661157 0.20661157 ... 0.152892...   \n",
       "0.388200 [[0.46694216 0.47520661 0.45454547 ... 0.561983...   \n",
       "0.393329 [[0.13636364 0.14049587 0.18595041 ... 0.119834...   \n",
       "0.394009 [[0.15289256 0.18181819 0.25206611 ... 0.123966...   \n",
       "0.394940 [[0.14876033 0.1570248  0.19008264 ... 0.111570...   \n",
       "...                                                     ...   \n",
       "0.705760 [[nan nan nan ... nan nan nan]\n",
       " [nan nan nan .....   \n",
       "0.712098 [[nan nan nan ... nan nan nan]\n",
       " [nan nan nan .....   \n",
       "0.713822 [[nan nan nan ... nan nan nan]\n",
       " [nan nan nan .....   \n",
       "0.717360 [[nan nan nan ... nan nan nan]\n",
       " [nan nan nan .....   \n",
       "0.724855 [[nan nan nan ... nan nan nan]\n",
       " [nan nan nan .....   \n",
       "\n",
       "                                                            target        \n",
       "light                                                 True   False True   \n",
       "mean                                                                      \n",
       "0.382309 [[nan nan nan ... nan nan nan]\n",
       " [nan nan nan .....   21.0   NaN  \n",
       "0.388200 [[nan nan nan ... nan nan nan]\n",
       " [nan nan nan .....   33.0   NaN  \n",
       "0.393329 [[nan nan nan ... nan nan nan]\n",
       " [nan nan nan .....   21.0   NaN  \n",
       "0.394009 [[nan nan nan ... nan nan nan]\n",
       " [nan nan nan .....   21.0   NaN  \n",
       "0.394940 [[nan nan nan ... nan nan nan]\n",
       " [nan nan nan .....   38.0   NaN  \n",
       "...                                                     ...    ...   ...  \n",
       "0.705760 [[0.33057851 0.40909091 0.54958677 ... 0.723140...    NaN   5.0  \n",
       "0.712098 [[0.63636363 0.67768598 0.66942149 ... 0.698347...    NaN   5.0  \n",
       "0.713822 [[0.55371898 0.60743803 0.63636363 ... 0.719008...    NaN   5.0  \n",
       "0.717360 [[0.72314048 0.71074378 0.71487606 ... 0.636363...    NaN   5.0  \n",
       "0.724855 [[0.6570248  0.64876032 0.65289259 ... 0.690082...    NaN   5.0  \n",
       "\n",
       "[400 rows x 4 columns]"
      ]
     },
     "execution_count": 55,
     "metadata": {},
     "output_type": "execute_result"
    }
   ],
   "source": [
    "df[\"light\"] = df[\"mean\"] > 0.5\n",
    "df.set_index([\"mean\", \"light\"]).unstack()"
   ]
  },
  {
   "cell_type": "code",
   "execution_count": null,
   "metadata": {},
   "outputs": [],
   "source": []
  },
  {
   "cell_type": "markdown",
   "metadata": {},
   "source": [
    "### Save/load"
   ]
  },
  {
   "cell_type": "code",
   "execution_count": 59,
   "metadata": {},
   "outputs": [
    {
     "data": {
      "text/html": [
       "<div>\n",
       "<style scoped>\n",
       "    .dataframe tbody tr th:only-of-type {\n",
       "        vertical-align: middle;\n",
       "    }\n",
       "\n",
       "    .dataframe tbody tr th {\n",
       "        vertical-align: top;\n",
       "    }\n",
       "\n",
       "    .dataframe thead th {\n",
       "        text-align: right;\n",
       "    }\n",
       "</style>\n",
       "<table border=\"1\" class=\"dataframe\">\n",
       "  <thead>\n",
       "    <tr style=\"text-align: right;\">\n",
       "      <th></th>\n",
       "      <th>image</th>\n",
       "      <th>target</th>\n",
       "      <th>mean</th>\n",
       "      <th>light</th>\n",
       "    </tr>\n",
       "  </thead>\n",
       "  <tbody>\n",
       "    <tr>\n",
       "      <th>0</th>\n",
       "      <td>[[0.30991736 0.3677686  0.41735536 ... 0.371900...</td>\n",
       "      <td>0</td>\n",
       "      <td>0.636847</td>\n",
       "      <td>True</td>\n",
       "    </tr>\n",
       "    <tr>\n",
       "      <th>1</th>\n",
       "      <td>[[0.45454547 0.47107437 0.5123967  ... 0.190082...</td>\n",
       "      <td>0</td>\n",
       "      <td>0.589404</td>\n",
       "      <td>True</td>\n",
       "    </tr>\n",
       "    <tr>\n",
       "      <th>2</th>\n",
       "      <td>[[0.3181818  0.40082645 0.49173555 ... 0.400826...</td>\n",
       "      <td>0</td>\n",
       "      <td>0.622834</td>\n",
       "      <td>True</td>\n",
       "    </tr>\n",
       "    <tr>\n",
       "      <th>3</th>\n",
       "      <td>[[0.1983471  0.19421488 0.19421488 ... 0.582644...</td>\n",
       "      <td>0</td>\n",
       "      <td>0.580938</td>\n",
       "      <td>True</td>\n",
       "    </tr>\n",
       "    <tr>\n",
       "      <th>4</th>\n",
       "      <td>[[0.5        0.54545456 0.58264464 ... 0.223140...</td>\n",
       "      <td>0</td>\n",
       "      <td>0.609376</td>\n",
       "      <td>True</td>\n",
       "    </tr>\n",
       "  </tbody>\n",
       "</table>\n",
       "</div>"
      ],
      "text/plain": [
       "                                               image  target      mean  light\n",
       "0 [[0.30991736 0.3677686  0.41735536 ... 0.371900...       0  0.636847   True\n",
       "1 [[0.45454547 0.47107437 0.5123967  ... 0.190082...       0  0.589404   True\n",
       "2 [[0.3181818  0.40082645 0.49173555 ... 0.400826...       0  0.622834   True\n",
       "3 [[0.1983471  0.19421488 0.19421488 ... 0.582644...       0  0.580938   True\n",
       "4 [[0.5        0.54545456 0.58264464 ... 0.223140...       0  0.609376   True"
      ]
     },
     "execution_count": 59,
     "metadata": {},
     "output_type": "execute_result"
    }
   ],
   "source": [
    "df.to_parquet(\"faces.parquet\")\n",
    "pd.read_parquet(\"faces.parquet\").head()"
   ]
  },
  {
   "cell_type": "code",
   "execution_count": 61,
   "metadata": {},
   "outputs": [
    {
     "data": {
      "text/html": [
       "<div>\n",
       "<style scoped>\n",
       "    .dataframe tbody tr th:only-of-type {\n",
       "        vertical-align: middle;\n",
       "    }\n",
       "\n",
       "    .dataframe tbody tr th {\n",
       "        vertical-align: top;\n",
       "    }\n",
       "\n",
       "    .dataframe thead th {\n",
       "        text-align: right;\n",
       "    }\n",
       "</style>\n",
       "<table border=\"1\" class=\"dataframe\">\n",
       "  <thead>\n",
       "    <tr style=\"text-align: right;\">\n",
       "      <th></th>\n",
       "      <th>image</th>\n",
       "      <th>target</th>\n",
       "      <th>mean</th>\n",
       "      <th>light</th>\n",
       "    </tr>\n",
       "  </thead>\n",
       "  <tbody>\n",
       "    <tr>\n",
       "      <th>0</th>\n",
       "      <td>[[0.30991736 0.3677686  0.41735536 ... 0.371900...</td>\n",
       "      <td>0</td>\n",
       "      <td>0.636847</td>\n",
       "      <td>True</td>\n",
       "    </tr>\n",
       "    <tr>\n",
       "      <th>1</th>\n",
       "      <td>[[0.45454547 0.47107437 0.5123967  ... 0.190082...</td>\n",
       "      <td>0</td>\n",
       "      <td>0.589404</td>\n",
       "      <td>True</td>\n",
       "    </tr>\n",
       "    <tr>\n",
       "      <th>2</th>\n",
       "      <td>[[0.3181818  0.40082645 0.49173555 ... 0.400826...</td>\n",
       "      <td>0</td>\n",
       "      <td>0.622834</td>\n",
       "      <td>True</td>\n",
       "    </tr>\n",
       "    <tr>\n",
       "      <th>3</th>\n",
       "      <td>[[0.1983471  0.19421488 0.19421488 ... 0.582644...</td>\n",
       "      <td>0</td>\n",
       "      <td>0.580938</td>\n",
       "      <td>True</td>\n",
       "    </tr>\n",
       "    <tr>\n",
       "      <th>4</th>\n",
       "      <td>[[0.5        0.54545456 0.58264464 ... 0.223140...</td>\n",
       "      <td>0</td>\n",
       "      <td>0.609376</td>\n",
       "      <td>True</td>\n",
       "    </tr>\n",
       "  </tbody>\n",
       "</table>\n",
       "</div>"
      ],
      "text/plain": [
       "                                               image  target      mean  light\n",
       "0 [[0.30991736 0.3677686  0.41735536 ... 0.371900...       0  0.636847   True\n",
       "1 [[0.45454547 0.47107437 0.5123967  ... 0.190082...       0  0.589404   True\n",
       "2 [[0.3181818  0.40082645 0.49173555 ... 0.400826...       0  0.622834   True\n",
       "3 [[0.1983471  0.19421488 0.19421488 ... 0.582644...       0  0.580938   True\n",
       "4 [[0.5        0.54545456 0.58264464 ... 0.223140...       0  0.609376   True"
      ]
     },
     "execution_count": 61,
     "metadata": {},
     "output_type": "execute_result"
    }
   ],
   "source": [
    "df.to_parquet(\"faces.pickle\")\n",
    "pd.read_parquet(\"faces.pickle\").head()"
   ]
  },
  {
   "cell_type": "code",
   "execution_count": null,
   "metadata": {},
   "outputs": [],
   "source": []
  }
 ],
 "metadata": {
  "kernelspec": {
   "display_name": "Python 3",
   "language": "python",
   "name": "python3"
  },
  "language_info": {
   "codemirror_mode": {
    "name": "ipython",
    "version": 3
   },
   "file_extension": ".py",
   "mimetype": "text/x-python",
   "name": "python",
   "nbconvert_exporter": "python",
   "pygments_lexer": "ipython3",
   "version": "3.8.5"
  }
 },
 "nbformat": 4,
 "nbformat_minor": 4
}
